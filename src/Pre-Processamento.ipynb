{
 "cells": [
  {
   "cell_type": "code",
   "execution_count": 4,
   "metadata": {},
   "outputs": [
    {
     "name": "stdout",
     "output_type": "stream",
     "text": [
      "Renomeado: 1.25.A.3 -> 1.25.A.3.jpg\n",
      "Renomeado: 1.25.N.2 -> 1.25.N.2.jpg\n",
      "Renomeado: 1.25.N.3 -> 1.25.N.3.jpg\n",
      "Renomeado: 1.35.A.1 -> 1.35.A.1.jpg\n",
      "Renomeado: 1.35.A.2 -> 1.35.A.2.jpg\n",
      "Renomeado: 1.35.A.3 -> 1.35.A.3.jpg\n",
      "Renomeado: 1.35.N.1 -> 1.35.N.1.jpg\n",
      "Renomeado: 1.35.N.2 -> 1.35.N.2.jpg\n",
      "Renomeado: 1.35.N.3 -> 1.35.N.3.jpg\n",
      "Renomeado: 1.45.A.1 -> 1.45.A.1.jpg\n",
      "Renomeado: 1.45.A.2 -> 1.45.A.2.jpg\n",
      "Renomeado: 1.45.A.3 -> 1.45.A.3.jpg\n",
      "Renomeado: 1.45.N.1 -> 1.45.N.1.jpg\n",
      "Renomeado: 1.45.N.2 -> 1.45.N.2.jpg\n",
      "Renomeado: 1.45.N.3 -> 1.45.N.3.jpg\n",
      "Renomeado: 1.55.A.1 -> 1.55.A.1.jpg\n",
      "Renomeado: 1.55.A.2 -> 1.55.A.2.jpg\n",
      "Renomeado: 1.55.A.3 -> 1.55.A.3.jpg\n",
      "Renomeado: 1.55.N.1 -> 1.55.N.1.jpg\n",
      "Renomeado: 1.55.N.2 -> 1.55.N.2.jpg\n",
      "Renomeado: 1.55.N.3 -> 1.55.N.3.jpg\n",
      "Renomeado: 1.65.A.1 -> 1.65.A.1.jpg\n",
      "Renomeado: 1.65.A.2 -> 1.65.A.2.jpg\n",
      "Renomeado: 1.65.A.3 -> 1.65.A.3.jpg\n",
      "Renomeado: 1.65.N.1 -> 1.65.N.1.jpg\n",
      "Renomeado: 1.65.N.2 -> 1.65.N.2.jpg\n",
      "Renomeado: 1.65.N.3 -> 1.65.N.3.jpg\n",
      "Renomeado: 1.75.A.1 -> 1.75.A.1.jpg\n",
      "Renomeado: 1.75.A.2 -> 1.75.A.2.jpg\n",
      "Renomeado: 1.75.A.3 -> 1.75.A.3.jpg\n",
      "Renomeado: 1.75.N.1 -> 1.75.N.1.jpg\n",
      "Renomeado: 1.75.N.2 -> 1.75.N.2.jpg\n",
      "Renomeado: 1.75.N.3 -> 1.75.N.3.jpg\n",
      "Renomeado: 1.85.A.1 -> 1.85.A.1.jpg\n",
      "Renomeado: 1.85.A.2 -> 1.85.A.2.jpg\n",
      "Renomeado: 1.85.A.3 -> 1.85.A.3.jpg\n",
      "Renomeado: 1.85.N.1 -> 1.85.N.1.jpg\n",
      "Renomeado: 1.85.N.2 -> 1.85.N.2.jpg\n",
      "Renomeado: 1.85.N.3 -> 1.85.N.3.jpg\n",
      "Renomeado: 1.95.A.1 -> 1.95.A.1.jpg\n",
      "Renomeado: 1.95.A.2 -> 1.95.A.2.jpg\n",
      "Renomeado: 1.95.A.3 -> 1.95.A.3.jpg\n",
      "Renomeado: 1.95.N.1 -> 1.95.N.1.jpg\n",
      "Renomeado: 1.95.N.2 -> 1.95.N.2.jpg\n",
      "Renomeado: 1.95.N.3 -> 1.95.N.3.jpg\n",
      "Renomeado: 1.N.25.1 -> 1.N.25.1.jpg\n"
     ]
    }
   ],
   "source": [
    "import os\n",
    "\n",
    "# Caminho do diretório onde estão os arquivos\n",
    "diretorio = 'C:\\\\Users\\\\lucas\\\\Correcao-de-Imagem-Sistemas-Distribuidos\\\\Imagens'\n",
    "\n",
    "# Listar todos os arquivos no diretório\n",
    "arquivos = os.listdir(diretorio)\n",
    "\n",
    "# Iterar sobre cada arquivo\n",
    "for arquivo in arquivos:\n",
    "    caminho_arquivo = os.path.join(diretorio, arquivo)\n",
    "\n",
    "    # Verificar se é um arquivo e se não termina com .jpg\n",
    "    if os.path.isfile(caminho_arquivo) and not arquivo.lower().endswith('.jpg'):\n",
    "        novo_nome = arquivo + '.jpg'  # Adicionar .jpg ao nome do arquivo\n",
    "        novo_caminho = os.path.join(diretorio, novo_nome)\n",
    "\n",
    "        # Renomear o arquivo\n",
    "        os.rename(caminho_arquivo, novo_caminho)\n",
    "        print(f\"Renomeado: {arquivo} -> {novo_nome}\")\n"
   ]
  }
 ],
 "metadata": {
  "kernelspec": {
   "display_name": "base",
   "language": "python",
   "name": "python3"
  },
  "language_info": {
   "codemirror_mode": {
    "name": "ipython",
    "version": 3
   },
   "file_extension": ".py",
   "mimetype": "text/x-python",
   "name": "python",
   "nbconvert_exporter": "python",
   "pygments_lexer": "ipython3",
   "version": "3.11.7"
  }
 },
 "nbformat": 4,
 "nbformat_minor": 2
}
